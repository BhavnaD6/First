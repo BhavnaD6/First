{
 "cells": [
  {
   "cell_type": "markdown",
   "id": "2e57fc9b-d752-4b47-8e09-2340b368d01a",
   "metadata": {},
   "source": [
    "# Data Sceince Tools and Ecosystem"
   ]
  },
  {
   "cell_type": "markdown",
   "id": "2812f7f4-d59e-4672-877a-3cf6223b6b57",
   "metadata": {},
   "source": [
    "In this notebook, Data Science Tools and Ecosystem are summarized."
   ]
  },
  {
   "cell_type": "markdown",
   "id": "d5ec9855-fa83-4784-9c10-54af6ee7d887",
   "metadata": {},
   "source": [
    "<b> Objectives:</b>\n",
    "    \n",
    "<ul>\n",
    "    <li>List popular languages for Data Science</li>\n",
    "    <li>List popular libraries for Data Science</li>\n",
    "    <li>Adding comments in cells</li>\n",
    "    <li>Adding markdowns in cells</li>\n",
    "</ul>"
   ]
  },
  {
   "cell_type": "markdown",
   "id": "4affb14b-809c-454e-b6b6-124128c880ff",
   "metadata": {},
   "source": [
    "Some of the popular languages that Data Scientists use are:\n",
    "1. Python\n",
    "2. R\n",
    "3. C++"
   ]
  },
  {
   "cell_type": "markdown",
   "id": "506d142b-cca4-46d9-a75d-9fe049a7694a",
   "metadata": {},
   "source": [
    "Some of the commonly used libraries used by Data Scientists include:\n",
    "1. TenserFlow\n",
    "2. NumPy\n",
    "3. SciPy\n",
    "4. Pandas\n",
    "5. Matplotlib"
   ]
  },
  {
   "cell_type": "markdown",
   "id": "7393149c-5f14-458d-a9aa-c3c8dbdba8bc",
   "metadata": {},
   "source": [
    "|Data Science Tools|\n",
    "|----|\n",
    "|Anaconda|\n",
    "|Jupyter Notebooks|\n",
    "|Spyder|\n",
    "|R Studio|"
   ]
  },
  {
   "cell_type": "markdown",
   "id": "9d3edbba-0ee3-4a6a-9e2c-9aaf24c3b02a",
   "metadata": {},
   "source": [
    "### Below are a few examples of evaluating arithmetic expressions in Python"
   ]
  },
  {
   "cell_type": "code",
   "execution_count": 2,
   "id": "2c549942-74aa-4be4-8f6a-2461b06d9732",
   "metadata": {
    "tags": []
   },
   "outputs": [
    {
     "data": {
      "text/plain": [
       "17"
      ]
     },
     "execution_count": 2,
     "metadata": {},
     "output_type": "execute_result"
    }
   ],
   "source": [
    "#This a simple arithmetic expression to mutiply then add integers\n",
    "(3*4)+5"
   ]
  },
  {
   "cell_type": "code",
   "execution_count": 3,
   "id": "97a17642-ec85-4d39-92c8-8cffc7fcd6cf",
   "metadata": {
    "tags": []
   },
   "outputs": [
    {
     "data": {
      "text/plain": [
       "3.3333333333333335"
      ]
     },
     "execution_count": 3,
     "metadata": {},
     "output_type": "execute_result"
    }
   ],
   "source": [
    "# This will convert 200 minutes to hours by diving by 60\n",
    "200/60"
   ]
  },
  {
   "cell_type": "markdown",
   "id": "b1c75913-45b0-4ee2-ae3a-8d5678e0fc95",
   "metadata": {},
   "source": [
    "## Author \n",
    "Bhavna"
   ]
  },
  {
   "cell_type": "code",
   "execution_count": null,
   "id": "1a862832-388b-4f1e-9d31-ccf012beda9e",
   "metadata": {},
   "outputs": [],
   "source": []
  }
 ],
 "metadata": {
  "kernelspec": {
   "display_name": "Python 3 (ipykernel)",
   "language": "python",
   "name": "python3"
  },
  "language_info": {
   "codemirror_mode": {
    "name": "ipython",
    "version": 3
   },
   "file_extension": ".py",
   "mimetype": "text/x-python",
   "name": "python",
   "nbconvert_exporter": "python",
   "pygments_lexer": "ipython3",
   "version": "3.11.3"
  }
 },
 "nbformat": 4,
 "nbformat_minor": 5
}
